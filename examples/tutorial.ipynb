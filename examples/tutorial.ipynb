{
 "cells": [
  {
   "cell_type": "markdown",
   "metadata": {},
   "source": [
    "# `aiterutils` tutorial\n",
    "\n",
    "A functional programming toolkit for manipulation of asynchronous iterators in python >3.5\n",
    "\n",
    "It has two types of operations:\n",
    "\n",
    "1. Iterator functions\n",
    "   * `au.map(fn, aiter): aiter`\n",
    "   * `au.each(fn, aiter): coroutine`\n",
    "   * `au.filter(fn, aiter): aiter`\n",
    "   * `au.merge([aiter...]): aiter`\n",
    "   * `au.bifurcate(fn, aiter): (aiter, aiter)`\n",
    "   * `au.branch([fn...], aiter): (aiter...)`\n",
    "\n",
    "2. Dynamic streams\n",
    "   * `au.Stream(aiter)'\n",
    "\n",
    "Dynamics streams can have their undelying object methods invocated implicitly\n",
    "\n",
    "```\n",
    "capitals = au.Stream(['a','b','c']).upper()\n",
    "```"
   ]
  },
  {
   "cell_type": "code",
   "execution_count": 3,
   "metadata": {},
   "outputs": [],
   "source": [
    "# if executing this notebook, downgrade tornado \n",
    "# as tornado does not play nice with asyncio \n",
    "# ! pip install tornado==4.5.3 "
   ]
  },
  {
   "cell_type": "markdown",
   "metadata": {},
   "source": [
    "## 1. Setup"
   ]
  },
  {
   "cell_type": "code",
   "execution_count": 12,
   "metadata": {},
   "outputs": [],
   "source": [
    "import functools as ft\n",
    "import asyncio\n",
    "\n",
    "import aiterutils as au\n",
    "\n",
    "async def symbol_stream(symbols, interval):\n",
    "    for symbol in symbols:\n",
    "        yield symbol\n",
    "        await asyncio.sleep(interval)\n",
    "    \n",
    "smiley = lambda: symbol_stream([\"🙂\"]*5, 1)\n",
    "sunny  = lambda: symbol_stream([\"☀️\"]*5, 0.5)\n",
    "clown  = lambda: symbol_stream([\"🤡\"]*5, 0.2)\n",
    "team   = lambda: au.merge([smiley(), sunny(), clown()])\n",
    "\n",
    "single_line_print = ft.partial(print, end='')\n",
    "\n",
    "loop   = asyncio.get_event_loop()"
   ]
  },
  {
   "cell_type": "markdown",
   "metadata": {},
   "source": [
    "## 2. Iterator functions"
   ]
  },
  {
   "cell_type": "markdown",
   "metadata": {},
   "source": [
    "### `au.map(fn, aiter): aiter`"
   ]
  },
  {
   "cell_type": "code",
   "execution_count": 3,
   "metadata": {},
   "outputs": [
    {
     "name": "stdout",
     "output_type": "stream",
     "text": [
      "🙂!☀️!🤡!🤡!🤡!☀️!🤡!🤡!🙂!☀️!☀️!🙂!☀️!🙂!🙂!"
     ]
    }
   ],
   "source": [
    "stream = au.map(lambda s: s + '!', team())\n",
    "app    = au.println(stream, end='')\n",
    "\n",
    "loop.run_until_complete(app)"
   ]
  },
  {
   "cell_type": "markdown",
   "metadata": {},
   "source": [
    "### `au.each(fn, aiter): coroutine`"
   ]
  },
  {
   "cell_type": "code",
   "execution_count": 4,
   "metadata": {},
   "outputs": [
    {
     "name": "stdout",
     "output_type": "stream",
     "text": [
      "🙂☀️🤡🤡🤡☀️🤡🤡🙂☀️☀️🙂☀️🙂🙂"
     ]
    }
   ],
   "source": [
    "import functools as ft\n",
    "\n",
    "app = au.each(single_line_print, team())\n",
    "loop.run_until_complete(app)"
   ]
  },
  {
   "cell_type": "markdown",
   "metadata": {},
   "source": [
    "### `au.filter(fn, aiter): aiter`"
   ]
  },
  {
   "cell_type": "code",
   "execution_count": 5,
   "metadata": {},
   "outputs": [
    {
     "name": "stdout",
     "output_type": "stream",
     "text": [
      "☀️☀️☀️☀️☀️"
     ]
    }
   ],
   "source": [
    "stream = au.filter(lambda s: s == '☀️', team())\n",
    "app    = au.println(stream, end=\"\")\n",
    "loop.run_until_complete(app)"
   ]
  },
  {
   "cell_type": "markdown",
   "metadata": {},
   "source": [
    "### `au.merge([aiter...]): aiter`"
   ]
  },
  {
   "cell_type": "code",
   "execution_count": 6,
   "metadata": {},
   "outputs": [
    {
     "name": "stdout",
     "output_type": "stream",
     "text": [
      "🙂☀️☀️🙂☀️☀️🙂☀️🙂🙂"
     ]
    }
   ],
   "source": [
    "stream = au.merge([smiley(), sunny()])\n",
    "app    = au.println(stream, end=\"\")\n",
    "loop.run_until_complete(app)"
   ]
  },
  {
   "cell_type": "markdown",
   "metadata": {},
   "source": [
    "### `au.bifurcate(fn, aiter): (aiter, aiter)`"
   ]
  },
  {
   "cell_type": "code",
   "execution_count": 7,
   "metadata": {},
   "outputs": [
    {
     "name": "stdout",
     "output_type": "stream",
     "text": [
      "🙂🙂🙂🙂🙂☀️🤡🤡🤡☀️🤡🤡☀️☀️☀️"
     ]
    }
   ],
   "source": [
    "smile_stream, other_stream = au.bifurcate(lambda s: s == '🙂', team())\n",
    "\n",
    "loop.run_until_complete(au.println(smile_stream, end=\"\"))\n",
    "loop.run_until_complete(au.println(other_stream, end=\"\"))"
   ]
  },
  {
   "cell_type": "markdown",
   "metadata": {},
   "source": [
    "### `au.branch([fn...], aiter): (aiter...)`"
   ]
  },
  {
   "cell_type": "code",
   "execution_count": 8,
   "metadata": {},
   "outputs": [
    {
     "name": "stdout",
     "output_type": "stream",
     "text": [
      "🙂🙂🙂🙂🙂☀️☀️☀️☀️☀️🤡🤡🤡🤡🤡"
     ]
    }
   ],
   "source": [
    "filters = [\n",
    "    lambda s: s == '🙂',\n",
    "    lambda s: s == '☀️',\n",
    "    lambda s: s == '🤡'\n",
    "]\n",
    "\n",
    "smile_stream, sun_stream, clown_stream = au.branch(filters, team())\n",
    "\n",
    "loop.run_until_complete(au.println(smile_stream, end=''))\n",
    "loop.run_until_complete(au.println(sun_stream, end=''))\n",
    "loop.run_until_complete(au.println(clown_stream, end=''))"
   ]
  },
  {
   "cell_type": "markdown",
   "metadata": {},
   "source": [
    "## 3. Dynamic Streams"
   ]
  },
  {
   "cell_type": "markdown",
   "metadata": {},
   "source": [
    "### 3.1 map and each methods"
   ]
  },
  {
   "cell_type": "code",
   "execution_count": 9,
   "metadata": {},
   "outputs": [
    {
     "name": "stdout",
     "output_type": "stream",
     "text": [
      "🙂!☀️!🤡!🤡!🤡!☀️!🤡!🤡!🙂!☀️!☀️!🙂!☀️!🙂!🙂!"
     ]
    }
   ],
   "source": [
    "#dynamic streams have regular map an each methods\n",
    "\n",
    "app = (au.Stream(team())\n",
    "         .map(lambda s: s+'!')\n",
    "         .each(single_line_print))\n",
    "\n",
    "loop.run_until_complete(app)"
   ]
  },
  {
   "cell_type": "markdown",
   "metadata": {},
   "source": [
    "### 3.2 operator overloading "
   ]
  },
  {
   "cell_type": "code",
   "execution_count": 10,
   "metadata": {},
   "outputs": [
    {
     "name": "stdout",
     "output_type": "stream",
     "text": [
      "2.62.62.62.62.62.62.62.62.62.6"
     ]
    }
   ],
   "source": [
    "# dynamics streams can have underlying object methods called implicitly\n",
    "\n",
    "stream = au.Stream(symbol_stream([{\"key-2\" : 1, \"key-2\" : 2}]*10, 0.5))\n",
    "value2 = stream['key-2'] + 3 / 5\n",
    "\n",
    "app = au.println(value2, end='')\n",
    "loop.run_until_complete(app)\n"
   ]
  },
  {
   "cell_type": "markdown",
   "metadata": {},
   "source": [
    "### 3.3 dynamic method invocation"
   ]
  },
  {
   "cell_type": "code",
   "execution_count": 16,
   "metadata": {},
   "outputs": [
    {
     "name": "stdout",
     "output_type": "stream",
     "text": [
      "b'KEY-2'b'KEY-2'b'KEY-2'b'KEY-2'b'KEY-2'"
     ]
    }
   ],
   "source": [
    "stream = au.Stream(symbol_stream([{\"key-1\" : 1, \"key-2\" : 2}]*5, 0.5))\n",
    "\n",
    "keys = stream.keys()\n",
    "key = keys.map(lambda key: list(key))\n",
    "key = key[-1]\n",
    "key = key.upper().encode('utf-8')\n",
    "\n",
    "app = au.println(key, end='')\n",
    "\n",
    "loop.run_until_complete(app)"
   ]
  },
  {
   "cell_type": "code",
   "execution_count": null,
   "metadata": {},
   "outputs": [],
   "source": []
  }
 ],
 "metadata": {
  "kernelspec": {
   "display_name": "Python 3",
   "language": "python",
   "name": "python3"
  },
  "language_info": {
   "codemirror_mode": {
    "name": "ipython",
    "version": 3
   },
   "file_extension": ".py",
   "mimetype": "text/x-python",
   "name": "python",
   "nbconvert_exporter": "python",
   "pygments_lexer": "ipython3",
   "version": "3.6.1"
  }
 },
 "nbformat": 4,
 "nbformat_minor": 2
}
